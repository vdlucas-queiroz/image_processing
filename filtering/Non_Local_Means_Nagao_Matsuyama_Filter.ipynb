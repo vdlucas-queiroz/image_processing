{
  "nbformat": 4,
  "nbformat_minor": 0,
  "metadata": {
    "colab": {
      "provenance": []
    },
    "kernelspec": {
      "name": "python3",
      "display_name": "Python 3"
    },
    "language_info": {
      "name": "python"
    }
  },
  "cells": [
    {
      "cell_type": "markdown",
      "source": [
        "### **Filtragem por médias não-locais (vizinhança de Nagao-Matsuyama)**\n",
        "###### Disciplinas: PDI Avançado / Processamento de Imagens SAR\n",
        "###### Profª Drª Sidnei Sant'Anna/ Leila Fonseca  e José Claudio Mura\n",
        "###### Discentes: Vinícius D'Lucas Bezerra e Queiroz , Lenon Silva de Oliveira."
      ],
      "metadata": {
        "id": "CtcMx3C49U_3"
      }
    },
    {
      "cell_type": "markdown",
      "source": [
        "A técnica de filtragem por médias não locais se baseia em procurar pixels ou patches na imagem que se assemelham à vizinhança de um pixel de referência e, fazendo uso de algum critério de similaridade, realiza a filtragem por meio do cálculo da média desses elementos. Segundo [1] a melhor forma de reduzir o efeito do speckle é realizar a média em objetos que sejam semelhantes na imagem. Dessa forma, os métodos de filtragem não local apresentam performances e resultados interessantes por levar em consideração que proximidades geométricas na imagem não implicam necessariamente em similaridades [1].  \n",
        "Nagao e Matsuyama (1979)[2], por exemplo, propuseram um método de filtragem que tem a finalidade de reduzir o speckle sem borrar as bordas nem os detalhes imagem, sendo uma tentativa de resolver o conflito entre eliminação de ruído e degradação de bordas. Na prática, este método procura na vizinhança de um pixel de referência qual o patch que possui a menor variância e atribui na posição deste pixel o valor da média dos pixels desse mesmo patch.\n",
        "\n",
        "\n",
        "\n",
        "\n",
        "Referências:\n",
        "\n",
        "\n",
        "[1] Di Martino, G., Di Simone, A., Iodice, A., Riccio, D., & Ruello, G. Non-local means SAR despeckling based on scattering. 2015 IEEE International Geoscience and Remote Sensing Symposium (IGARSS) pp. 3172-3174, 2015. doi:10.1109/igarss.2015.7326491\n",
        "\n",
        "\n",
        "\n",
        "[2] NAGAO, M.; MATSUYAMA, T. Edge preserving smoothing. Computer graphics and image processing, v. 9, n. 4, p. 394-407, 1979.\n",
        "\n",
        "\n",
        "\n"
      ],
      "metadata": {
        "id": "UuiGr9Gz-aFc"
      }
    },
    {
      "cell_type": "markdown",
      "source": [
        "Instalando bibliotecas não-nativas"
      ],
      "metadata": {
        "id": "33Dq9esL9ay1"
      }
    },
    {
      "cell_type": "code",
      "source": [
        "!pip install rasterio"
      ],
      "metadata": {
        "id": "Q4PBryDN9aC7"
      },
      "execution_count": null,
      "outputs": []
    },
    {
      "cell_type": "markdown",
      "source": [
        "Importando outras bibliotecas"
      ],
      "metadata": {
        "id": "7fwBfkU79fxA"
      }
    },
    {
      "cell_type": "code",
      "execution_count": null,
      "metadata": {
        "id": "UbDgPimJ9Nta"
      },
      "outputs": [],
      "source": [
        "import rasterio as rio\n",
        "from osgeo import gdal\n",
        "import numpy as np\n",
        "gdal.UseExceptions()"
      ]
    },
    {
      "cell_type": "markdown",
      "source": [
        "Importando imagem"
      ],
      "metadata": {
        "id": "Ccm6T8SG9pe6"
      }
    },
    {
      "cell_type": "code",
      "source": [
        "# Mude este path, pelo caminho da imagem a ser filtrada\n",
        "\n",
        "dataset = rio.open(\"/content/drive/MyDrive/INPE/Disciplinas/3_periodo/sar/Projeto/img_filtrada/clip/clip2/TC.tif\", mode='r')\n"
      ],
      "metadata": {
        "id": "3S6IFKcL9pCm"
      },
      "execution_count": null,
      "outputs": []
    },
    {
      "cell_type": "markdown",
      "source": [
        "Definindo função de filtragem"
      ],
      "metadata": {
        "id": "gKafMNxn91zZ"
      }
    },
    {
      "cell_type": "code",
      "source": [
        "def nlm_filter_ngmt(imagem): #Filtro de médias não-locais que utiliza a vizinhança de Nagao e Matsuyama (1979)\n",
        "\n",
        "  # Verificando tamanho e largura da imagem e criando imagem de saída para filtragem\n",
        "  # out é definido como uma imagem de zeros com quatro linhas e colunas a menos\n",
        "  height, width = imagem.shape\n",
        "  out = np.zeros((height + 4, width + 4), dtype=np.float)\n",
        "  out[2: 2 + height, 2: 2 + width] = imagem.copy().astype(np.float)\n",
        "\n",
        "\n",
        "  # Criação dos 8 patches de pixels da vizinhança de Nagao-Matsuyama\n",
        "  qtd_iteracoes = 0\n",
        "  for i in range(height):\n",
        "      for j in range(width):\n",
        "          patch1 = np.ravel(out[i + 1:i + 4, j:j + 2])\n",
        "          patch1 = np.append(patch1, out[i + 2, j + 2])\n",
        "\n",
        "          patch2 = np.ravel(out[i + 3:i + 5, j + 1:j + 4])\n",
        "          patch2 = np.append(patch2, out[i + 2, j + 2])\n",
        "\n",
        "          patch3 = np.ravel(out[i + 1:i + 4, j + 3:j + 5])\n",
        "          patch3 = np.append(patch3, out[i + 2, j + 2])\n",
        "\n",
        "          patch4 = np.ravel(out[i:i + 2, j + 1:j + 4])\n",
        "          patch4 = np.append(patch4, out[i + 2, j + 2])\n",
        "\n",
        "          patch5 = np.ravel(out[i:i + 2, j:j + 2])\n",
        "          patch5 = np.append(patch5, [out[i + 2, j + 1],out[i + 1, j + 2],out[i + 2, j + 2]])\n",
        "\n",
        "          patch6 = np.ravel(out[i + 3:i + 5, j:j + 2])\n",
        "          patch6 = np.append(patch6, [out[i + 2, j + 1], out[i + 3, j + 2],out[i + 2, j + 2]])\n",
        "\n",
        "          patch7 = np.ravel(out[i + 3:i + 5, j + 3:j + 5])\n",
        "          patch7 = np.append(patch7, [out[i + 2, j + 3],out[i + 3, j + 2],out[i + 2, j + 2]])\n",
        "\n",
        "          patch8 = np.ravel(out[i:i + 2, j + 3:j + 5])\n",
        "          patch8 = np.append(patch8, [out[i + 1, j + 2], out[i + 2, j + 3],out[i + 2, j + 2]])\n",
        "\n",
        "          #patch9 = np.ravel(out[i + 1: i + 4, j + 1:j + 4]) # Vizinhança de nagao-matsuyama modificada com patch central\n",
        "\n",
        "\n",
        "          # Cálculo da variância como parâmetro de similaridade entre as 8 posições de vizinhança\n",
        "          resultado_var = np.array([np.var(patch1), np.var(patch2), np.var(patch3), np.var(patch4), np.var(patch5), np.var(patch6), np.var(patch7), np.var(patch8)])\n",
        "          patches = np.array([patch1,patch2,patch3,patch4,patch5,patch6,patch7,patch8])\n",
        "\n",
        "          # Cálculo da média para a posição de menor variância\n",
        "          out[2 + i, 2 + j] = np.mean(patches[resultado_var.argmin()])\n",
        "          qtd_iteracoes += 1\n",
        "  return out"
      ],
      "metadata": {
        "id": "SsPvc2be94LF"
      },
      "execution_count": null,
      "outputs": []
    },
    {
      "cell_type": "markdown",
      "source": [
        "**Executando função e exportando imagem como GeoTiFF**"
      ],
      "metadata": {
        "id": "gQPkTDag99-B"
      }
    },
    {
      "cell_type": "code",
      "source": [
        "for i in dataset.indexes:\n",
        "  out = nlm_filter_ngmt(dataset.read(i)) # Chamada da função dentro do loop.\n",
        "  height, width = dataset.shape\n",
        "  out = out[2:2 + height, 2:2 + width]# redimensionando as imagens para o mesmo tamanho.\n",
        "  src = dataset # atribuição das informações de georreferenciamento da imagem original\n",
        "\n",
        "  numpy_img = out # the variable with the filtered image as an array\n",
        "  tiff_name = '/content/drive/MyDrive/INPE/Disciplinas/3_periodo/sar/Projeto/img_filtrada/b{}_filtrado_ngmt.tif'.format(i)\n",
        "\n",
        "  # Exportação da imagem no formato GeoTiff\n",
        "  with rio.open(tiff_name,\n",
        "                      'w',\n",
        "                      driver='GTiff',\n",
        "                      height=numpy_img.shape[0],\n",
        "                      width=numpy_img.shape[1],\n",
        "                      count=1,\n",
        "                      dtype=numpy_img.dtype,\n",
        "                      crs=src.crs,\n",
        "                      nodata=None, # change if data has nodata value\n",
        "                      transform=src.transform) as dst:\n",
        "\n",
        "      dst.write(numpy_img, 1)"
      ],
      "metadata": {
        "id": "YbH1iUSZ98Zf"
      },
      "execution_count": null,
      "outputs": []
    }
  ]
}