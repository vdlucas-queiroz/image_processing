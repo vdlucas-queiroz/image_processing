{
 "cells": [
  {
   "cell_type": "code",
   "execution_count": 2,
   "metadata": {},
   "outputs": [],
   "source": [
    "import rasterio\n",
    "from rasterio.merge import merge\n",
    "from rasterio.warp import calculate_default_transform, reproject, Resampling\n",
    "from rasterio.mask import mask\n",
    "import fiona\n",
    "import os\n",
    "import numpy as np"
   ]
  },
  {
   "cell_type": "code",
   "execution_count": 11,
   "metadata": {},
   "outputs": [],
   "source": [
    "pasta_imagens = 'G:/Meu Drive/INPE/projeto_dissertacao/0_images/0_raw/OPTICAL/LT05_L2SP_227062_20050701_20200902_02_T1'\n",
    "arquivo_vetor = 'G:/Meu Drive/INPE/projeto_dissertacao/3_gis/projetos_GIS/PALSAR_2008_SDNLM_amplitude_extention.shp'\n",
    "pasta_destino = pasta_imagens\n",
    "dst_crs = 'EPSG:31981'"
   ]
  },
  {
   "cell_type": "code",
   "execution_count": 12,
   "metadata": {},
   "outputs": [],
   "source": [
    "sufixos= ['B1.TIF', 'B2.TIF', 'B3.TIF', 'B4.TIF', 'B5.TIF', 'B7.TIF']"
   ]
  },
  {
   "cell_type": "code",
   "execution_count": 22,
   "metadata": {},
   "outputs": [
    {
     "data": {
      "text/plain": [
       "['G:/Meu Drive/INPE/projeto_dissertacao/0_images/0_raw/OPTICAL/LT05_L2SP_227062_20050701_20200902_02_T1\\\\LT05_L2SP_227062_20050701_20200902_02_T1_SR_B1.TIF',\n",
       " 'G:/Meu Drive/INPE/projeto_dissertacao/0_images/0_raw/OPTICAL/LT05_L2SP_227062_20050701_20200902_02_T1\\\\LT05_L2SP_227062_20050701_20200902_02_T1_SR_B2.TIF',\n",
       " 'G:/Meu Drive/INPE/projeto_dissertacao/0_images/0_raw/OPTICAL/LT05_L2SP_227062_20050701_20200902_02_T1\\\\LT05_L2SP_227062_20050701_20200902_02_T1_SR_B3.TIF',\n",
       " 'G:/Meu Drive/INPE/projeto_dissertacao/0_images/0_raw/OPTICAL/LT05_L2SP_227062_20050701_20200902_02_T1\\\\LT05_L2SP_227062_20050701_20200902_02_T1_SR_B4.TIF',\n",
       " 'G:/Meu Drive/INPE/projeto_dissertacao/0_images/0_raw/OPTICAL/LT05_L2SP_227062_20050701_20200902_02_T1\\\\LT05_L2SP_227062_20050701_20200902_02_T1_SR_B5.TIF',\n",
       " 'G:/Meu Drive/INPE/projeto_dissertacao/0_images/0_raw/OPTICAL/LT05_L2SP_227062_20050701_20200902_02_T1\\\\LT05_L2SP_227062_20050701_20200902_02_T1_SR_B7.TIF']"
      ]
     },
     "execution_count": 22,
     "metadata": {},
     "output_type": "execute_result"
    }
   ],
   "source": [
    "# Lista todos os arquivos de imagem na pasta\n",
    "arquivos_imagens = [os.path.join(pasta_imagens, arquivo) for arquivo in os.listdir(pasta_imagens) \n",
    "                    if any(arquivo.endswith(sufixo) for sufixo in sufixos)]\n",
    "\n",
    "arquivos_imagens "
   ]
  },
  {
   "cell_type": "code",
   "execution_count": 14,
   "metadata": {},
   "outputs": [
    {
     "name": "stdout",
     "output_type": "stream",
     "text": [
      "BANDAS EMPILHADAS!\n"
     ]
    }
   ],
   "source": [
    "# Abre a primeira imagem para obter metadados\n",
    "with rasterio.open(arquivos_imagens[0]) as src0:\n",
    "    meta = src0.meta\n",
    "\n",
    "# Atualiza os metadados para o número de bandas\n",
    "meta.update(count = len(arquivos_imagens))\n",
    "\n",
    "# Escreve o arquivo de saída\n",
    "empilhado_filename = os.path.join(pasta_destino, 'empilhado.tif')\n",
    "with rasterio.open(empilhado_filename, 'w', **meta) as dst:\n",
    "    # Escreve cada imagem como uma banda separada\n",
    "    for id, layer in enumerate(arquivos_imagens, start=1):\n",
    "        with rasterio.open(layer) as src1:\n",
    "            dst.write_band(id, src1.read(1))\n",
    "\n",
    "print('BANDAS EMPILHADAS!')"
   ]
  },
  {
   "cell_type": "code",
   "execution_count": 15,
   "metadata": {},
   "outputs": [
    {
     "name": "stdout",
     "output_type": "stream",
     "text": [
      "IMAGEM REPROJETADA\n"
     ]
    }
   ],
   "source": [
    "with rasterio.open(empilhado_filename) as src:\n",
    "    transform, width, height = calculate_default_transform(\n",
    "        src.crs, dst_crs, src.width, src.height, *src.bounds)\n",
    "    kwargs = src.meta.copy()\n",
    "    kwargs.update({\n",
    "        'crs': dst_crs,\n",
    "        'transform': transform,\n",
    "        'width': width,\n",
    "        'height': height\n",
    "    })\n",
    "\n",
    "    reprojetado_filename = os.path.join(pasta_destino, 'reprojetado.tif')\n",
    "    with rasterio.open(reprojetado_filename, 'w', **kwargs) as dst:\n",
    "        for i in range(1, src.count + 1):\n",
    "            reproject(\n",
    "                source=rasterio.band(src, i),\n",
    "                destination=rasterio.band(dst, i),\n",
    "                src_transform=src.transform,\n",
    "                src_crs=src.crs,\n",
    "                dst_transform=transform,\n",
    "                dst_crs=dst_crs,\n",
    "                resampling=Resampling.nearest)\n",
    "print('IMAGEM REPROJETADA')"
   ]
  },
  {
   "cell_type": "code",
   "execution_count": 17,
   "metadata": {},
   "outputs": [
    {
     "name": "stdout",
     "output_type": "stream",
     "text": [
      "IMAGEM RECORTADA\n"
     ]
    }
   ],
   "source": [
    "# Recorta a imagem reprojetada usando o vetor\n",
    "with fiona.open(arquivo_vetor, \"r\") as shapefile:\n",
    "    shapes = [feature[\"geometry\"] for feature in shapefile]\n",
    "\n",
    "with rasterio.open(reprojetado_filename) as src:\n",
    "    out_image, out_transform = mask(src, shapes, crop=True)\n",
    "    out_meta = src.meta.copy()\n",
    "\n",
    "out_meta.update({\n",
    "    \"driver\": \"GTiff\",\n",
    "    \"height\": out_image.shape[1],\n",
    "    \"width\": out_image.shape[2],\n",
    "    \"transform\": out_transform\n",
    "})\n",
    "\n",
    "# Escreve a imagem recortada\n",
    "nome_pasta = os.path.basename(os.path.normpath(pasta_destino))\n",
    "recortado_filename = os.path.join(pasta_destino, f'REC_{nome_pasta}.tif')\n",
    "with rasterio.open(recortado_filename, \"w\", **out_meta) as dest:\n",
    "    dest.write(out_image)\n",
    "print('IMAGEM RECORTADA')"
   ]
  },
  {
   "cell_type": "code",
   "execution_count": 12,
   "metadata": {},
   "outputs": [],
   "source": [
    "imagem_sar = 'G:/Meu Drive/INPE/projeto_dissertacao/0_images/1_processed_images/0_SAR/2010/ALOS-H1_1__A-ORBIT__ALPSRP234707120_Cal_ML_DSk_TC_modificado_aligned.TIF'\n",
    "pasta_destino = 'G:/Meu Drive/INPE/projeto_dissertacao/0_images/1_processed_images/0_SAR/2010/'\n",
    "arquivo_vetor = 'G:/Meu Drive/INPE/projeto_dissertacao/3_gis/projetos_GIS/PALSAR_2008_SDNLM_amplitude_extention.shp'"
   ]
  },
  {
   "cell_type": "code",
   "execution_count": 14,
   "metadata": {},
   "outputs": [
    {
     "name": "stdout",
     "output_type": "stream",
     "text": [
      "IMAGEM RECORTADA\n"
     ]
    }
   ],
   "source": [
    "# Recorta a imagem reprojetada usando o vetor\n",
    "with fiona.open(arquivo_vetor, \"r\") as shapefile:\n",
    "    shapes = [feature[\"geometry\"] for feature in shapefile]\n",
    "\n",
    "with rasterio.open(imagem_sar) as src:\n",
    "    out_image, out_transform = mask(src, shapes, crop=True)\n",
    "    out_meta = src.meta.copy()\n",
    "\n",
    "out_meta.update({\n",
    "    \"driver\": \"GTiff\",\n",
    "    \"height\": out_image.shape[1],\n",
    "    \"width\": out_image.shape[2],\n",
    "    \"transform\": out_transform\n",
    "})\n",
    "\n",
    "# Escreve a imagem recortada\n",
    "nome_pasta = os.path.basename(os.path.normpath(pasta_destino))\n",
    "recortado_filename = os.path.join(pasta_destino, f'REC2_ALOS-H1_1__A-ORBIT__ALPSRP234707120_Cal_ML_DSk_TC_modificado_aligned.tif')\n",
    "with rasterio.open(recortado_filename, \"w\", **out_meta) as dest:\n",
    "    dest.write(out_image)\n",
    "print('IMAGEM RECORTADA')"
   ]
  },
  {
   "cell_type": "markdown",
   "metadata": {},
   "source": [
    "Reamostragem"
   ]
  },
  {
   "cell_type": "code",
   "execution_count": 10,
   "metadata": {},
   "outputs": [],
   "source": [
    "import rasterio\n",
    "from rasterio.enums import Resampling\n",
    "import os\n",
    "\n",
    "def reamostrar_imagem(caminho_imagem, fator_reamostragem, caminho_saida):\n",
    "    \"\"\"\n",
    "    Reamostra uma imagem raster, alterando o tamanho do pixel e mantendo os mesmos limites geográficos.\n",
    "\n",
    "    :param caminho_imagem: Caminho para a imagem de entrada.\n",
    "    :param fator_reamostragem: Fator pelo qual o tamanho do pixel será alterado. \n",
    "                               Por exemplo, 0.5 reduzirá o tamanho do pixel pela metade.\n",
    "    :param caminho_saida: Caminho para a imagem de saída.\n",
    "    \"\"\"\n",
    "    with rasterio.open(caminho_imagem) as dataset:\n",
    "        # Calcula a nova resolução (tamanho do pixel)\n",
    "        nova_resolucao = (dataset.res[0] * fator_reamostragem, dataset.res[1] * fator_reamostragem)\n",
    "\n",
    "        # Define os novos metadados\n",
    "        kwargs = dataset.meta.copy()\n",
    "        kwargs.update({\n",
    "            'driver': 'GTiff',\n",
    "            'transform': rasterio.Affine(nova_resolucao[0], dataset.transform.b, dataset.transform.c,\n",
    "                                         dataset.transform.d, -nova_resolucao[1], dataset.transform.f),\n",
    "            'width': int(dataset.width / fator_reamostragem),\n",
    "            'height': int(dataset.height / fator_reamostragem)\n",
    "        })\n",
    "\n",
    "        # Reamostra a imagem usando o método 'nearest neighbour'\n",
    "        with rasterio.open(caminho_saida, 'w', **kwargs) as dst:\n",
    "            for i in range(1, dataset.count + 1):\n",
    "                reproject(\n",
    "                    source=rasterio.band(dataset, i),\n",
    "                    destination=rasterio.band(dst, i),\n",
    "                    src_transform=dataset.transform,\n",
    "                    src_crs=dataset.crs,\n",
    "                    dst_transform=kwargs['transform'],\n",
    "                    dst_crs=dataset.crs,\n",
    "                    resampling=Resampling.nearest\n",
    "                )\n"
   ]
  },
  {
   "cell_type": "code",
   "execution_count": 11,
   "metadata": {},
   "outputs": [],
   "source": [
    "# Exemplo de uso\n",
    "caminho_imagem = 'G:/Meu Drive/INPE/projeto_dissertacao/0_images/1_processed_images/1_OPTICAL/REC_LT05_L2SP_227062_20100629_20200823_02_T1.TIF'\n",
    "fator_reamostragem = 0.5  # Para mudar de 30m para 15m, use um fator de 0.5\n",
    "caminho_saida = 'G:/Meu Drive/INPE/projeto_dissertacao/0_images/1_processed_images/1_OPTICAL/REC_LT05_L2SP_227062_20100629_20200823_02_T1_resampled.TIF'  # Substitua pelo caminho de saída desejado\n",
    "\n",
    "reamostrar_imagem(caminho_imagem, fator_reamostragem, caminho_saida)"
   ]
  }
 ],
 "metadata": {
  "kernelspec": {
   "display_name": "Python 3",
   "language": "python",
   "name": "python3"
  },
  "language_info": {
   "codemirror_mode": {
    "name": "ipython",
    "version": 3
   },
   "file_extension": ".py",
   "mimetype": "text/x-python",
   "name": "python",
   "nbconvert_exporter": "python",
   "pygments_lexer": "ipython3",
   "version": "3.11.3"
  }
 },
 "nbformat": 4,
 "nbformat_minor": 2
}
