{
 "cells": [
  {
   "cell_type": "code",
   "execution_count": null,
   "metadata": {},
   "outputs": [],
   "source": [
    "import numpy as np\n",
    "import rasterio\n",
    "from rasterio.warp import reproject, Resampling\n",
    "from sklearn.decomposition import PCA"
   ]
  },
  {
   "cell_type": "code",
   "execution_count": null,
   "metadata": {},
   "outputs": [],
   "source": [
    "\n",
    "def pansharpening_pca(pan_data, pan_profile, ms_data, ms_profile, output_path):\n",
    "    \"\"\"\n",
    "    Realiza o pansharpening de uma imagem multiespectral (MS) usando uma imagem pancromática (PAN) através do método PCA.\n",
    "\n",
    "    Args:\n",
    "    - pan_data: Dados da imagem pancromática.\n",
    "    - pan_profile: Metadados da imagem pancromática.\n",
    "    - ms_data: Dados da imagem multiespectral.\n",
    "    - ms_profile: Metadados da imagem multiespectral.\n",
    "    - output_path: Caminho para salvar a imagem resultante do pansharpening.\n",
    "\n",
    "    \"\"\"\n",
    "    # Reamostrar a imagem multiespectral para corresponder à resolução da imagem pancromática usando vizinho mais próximo\n",
    "    ms_data_resampled = np.empty((ms_data.shape[0], pan_data.shape[0], pan_data.shape[1]), dtype=ms_data.dtype)\n",
    "    for i in range(ms_data.shape[0]):\n",
    "        reproject(\n",
    "            source=ms_data[i],\n",
    "            destination=ms_data_resampled[i],\n",
    "            src_transform=ms_profile['transform'],\n",
    "            src_crs=ms_profile['crs'],\n",
    "            dst_transform=pan_profile['transform'],\n",
    "            dst_crs=pan_profile['crs'],\n",
    "            resampling=Resampling.nearest\n",
    "        )\n",
    "    \n",
    "    # Reorganizar dados para PCA\n",
    "    reshaped_ms = ms_data_resampled.reshape(ms_data_resampled.shape[0], -1).T  # Transpor para ter pixels como linhas\n",
    "    pca = PCA(n_components=ms_data_resampled.shape[0])\n",
    "    pca.fit(reshaped_ms)\n",
    "    ms_pca = pca.transform(reshaped_ms)\n",
    "    \n",
    "    # Substituir a primeira componente principal pela imagem pancromática\n",
    "    pan_flat = pan_data.flatten()\n",
    "    ms_pca[:, 0] = pan_flat\n",
    "    \n",
    "    # Reconstruir imagem multiespectral do PCA\n",
    "    ms_reconstructed = pca.inverse_transform(ms_pca).T.reshape(ms_data_resampled.shape)\n",
    "    \n",
    "    # Salvar a imagem resultante\n",
    "    output_profile = ms_profile.copy()\n",
    "    output_profile.update({\n",
    "        'height': pan_data.shape[0],\n",
    "        'width': pan_data.shape[1],\n",
    "        'transform': pan_profile['transform']\n",
    "    })\n",
    "    \n",
    "    with rasterio.open(output_path, 'w', **output_profile) as dest:\n",
    "        dest.write(ms_reconstructed)\n"
   ]
  },
  {
   "cell_type": "code",
   "execution_count": null,
   "metadata": {},
   "outputs": [],
   "source": [
    "# pan_path = \n",
    "# ms_path = \n",
    "\n",
    "\n",
    "with rasterio.open('caminho_para_imagem_pancromatica.tif') as pan_src:\n",
    "     pan_data = pan_src.read(1)\n",
    "     pan_profile = pan_src.profile\n",
    "\n",
    "with rasterio.open('caminho_para_imagem_multiespectral.tif') as ms_src:\n",
    "    ms_data = ms_src.read()\n",
    "    ms_profile = ms_src.profile\n",
    "\n",
    "\n",
    "pansharpening_pca(pan_data, pan_profile, ms_data, ms_profile, 'caminho_para_salvar_imagem_resultante.tif')"
   ]
  }
 ],
 "metadata": {
  "language_info": {
   "name": "python"
  }
 },
 "nbformat": 4,
 "nbformat_minor": 2
}
