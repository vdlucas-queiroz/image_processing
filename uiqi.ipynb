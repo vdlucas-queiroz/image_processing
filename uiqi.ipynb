{
 "cells": [
  {
   "cell_type": "code",
   "execution_count": 1,
   "metadata": {},
   "outputs": [],
   "source": [
    "import rasterio\n",
    "import numpy as np\n"
   ]
  },
  {
   "cell_type": "code",
   "execution_count": 20,
   "metadata": {},
   "outputs": [],
   "source": [
    "\n",
    "def uiqi(img1, img2):\n",
    "    \"\"\"\n",
    "    Calcula o Índice de Qualidade de Imagem Universal (UIQI) entre duas imagens.\n",
    "    \"\"\"\n",
    "    # Calcula as médias das imagens\n",
    "    mu1 = img1.mean()\n",
    "    mu2 = img2.mean()\n",
    "    print(f'mu1: {mu1}, mu2:{mu2}')\n",
    "\n",
    "    # Calcula os desvios padrão das imagens\n",
    "    sigma1 = img1.std()\n",
    "    sigma2 = img2.std()\n",
    "\n",
    "    print(f'sigma1: {sigma1}, sigma:{sigma2}')\n",
    "    # Calcula a covariância entre as imagens\n",
    "    sigma12 = ((img1 - mu1) * (img2 - mu2)).mean()\n",
    "\n",
    "    # Calcula o UIQI\n",
    "    if sigma1 * sigma2 == 0:\n",
    "        return 0\n",
    "    else:\n",
    "        uiqi_score = ((2 * mu1 * mu2 + 1.0) * (2 * sigma12 + 1.0)) / ((mu1**2 + mu2**2 + 1.0) * (sigma1**2 + sigma2**2 + 1.0))\n",
    "        return uiqi_score\n",
    "\n",
    "def read_image(file_path):\n",
    "    \"\"\"\n",
    "    Lê uma imagem usando rasterio e retorna como um array numpy.\n",
    "    \"\"\"\n",
    "    with rasterio.open(file_path) as src:\n",
    "        return src.read(1)  # Lê apenas a primeira banda\n",
    "\n"
   ]
  },
  {
   "cell_type": "code",
   "execution_count": 8,
   "metadata": {},
   "outputs": [],
   "source": [
    "# Caminhos para as imagens\n",
    "ref_image_path = 'C:/Users/PC/Desktop/ALOS-H1_1__A-ORBIT__ALPSRP234707120.TIF'\n",
    "test_image1_path = 'C:/Users/PC/Desktop/ALOS-H1_1__A-ORBIT__ALPSRP234707120_Cal.TIF'\n",
    "test_image2_path = 'C:/Users/PC/Desktop/ALOS-H1_1__A-ORBIT__ALPSRP234707120_Cal_cplx.TIF'\n",
    "\n"
   ]
  },
  {
   "cell_type": "code",
   "execution_count": 9,
   "metadata": {},
   "outputs": [
    {
     "name": "stderr",
     "output_type": "stream",
     "text": [
      "c:\\Users\\PC\\AppData\\Local\\Programs\\Python\\Python311\\Lib\\site-packages\\rasterio\\__init__.py:317: NotGeoreferencedWarning: Dataset has no geotransform, gcps, or rpcs. The identity matrix will be returned.\n",
      "  dataset = DatasetReader(path, driver=driver, sharing=sharing, **kwargs)\n"
     ]
    }
   ],
   "source": [
    "# Ler imagens\n",
    "ref_image = read_image(ref_image_path)\n",
    "test_image1 = read_image(test_image1_path)\n",
    "test_image2 = read_image(test_image2_path)"
   ]
  },
  {
   "cell_type": "code",
   "execution_count": 10,
   "metadata": {},
   "outputs": [
    {
     "name": "stderr",
     "output_type": "stream",
     "text": [
      "C:\\Users\\PC\\AppData\\Local\\Temp\\ipykernel_10032\\3711073149.py:1: RuntimeWarning: divide by zero encountered in log10\n",
      "  ref_image = 10**((10*np.log10(ref_image) - 83 -32)/10)\n"
     ]
    }
   ],
   "source": [
    "ref_image = 10**((10*np.log10(ref_image) - 83 -32)/10)"
   ]
  },
  {
   "cell_type": "code",
   "execution_count": 23,
   "metadata": {},
   "outputs": [
    {
     "name": "stdout",
     "output_type": "stream",
     "text": [
      "mu1: 0.04689899459481239, mu2:0.04689899459481239\n",
      "sigma1: 0.05846717953681946, sigma:0.05846717953681946\n"
     ]
    },
    {
     "data": {
      "text/plain": [
       "0.999999999627351"
      ]
     },
     "execution_count": 23,
     "metadata": {},
     "output_type": "execute_result"
    }
   ],
   "source": [
    "uiqi3 = uiqi(test_image1, test_image2)\n",
    "uiqi3"
   ]
  },
  {
   "cell_type": "code",
   "execution_count": 21,
   "metadata": {},
   "outputs": [
    {
     "name": "stdout",
     "output_type": "stream",
     "text": [
      "mu1: 0.0, mu2:0.04689899459481239\n",
      "sigma1: 0.0, sigma:0.05846717953681946\n",
      "mu1: 0.0, mu2:0.04689899459481239\n",
      "sigma1: 0.0, sigma:0.05846717953681946\n"
     ]
    }
   ],
   "source": [
    "# Calcular UIQI\n",
    "uiqi1 = uiqi(ref_image, test_image1)\n",
    "uiqi2 = uiqi(ref_image, test_image2)\n"
   ]
  },
  {
   "cell_type": "code",
   "execution_count": 11,
   "metadata": {},
   "outputs": [
    {
     "name": "stdout",
     "output_type": "stream",
     "text": [
      "UIQI for Test Image 1: 0\n",
      "UIQI for Test Image 2: 0\n",
      "The image more similar to the reference image is: Test Image 2\n"
     ]
    }
   ],
   "source": [
    "\n",
    "\n",
    "# Avaliar qual imagem é mais similar\n",
    "more_similar = \"Test Image 1\" if uiqi1 > uiqi2 else \"Test Image 2\"\n",
    "\n",
    "print(f\"UIQI for Test Image 1: {uiqi1}\")\n",
    "print(f\"UIQI for Test Image 2: {uiqi2}\")\n",
    "print(f\"The image more similar to the reference image is: {more_similar}\")\n"
   ]
  }
 ],
 "metadata": {
  "kernelspec": {
   "display_name": "Python 3",
   "language": "python",
   "name": "python3"
  },
  "language_info": {
   "codemirror_mode": {
    "name": "ipython",
    "version": 3
   },
   "file_extension": ".py",
   "mimetype": "text/x-python",
   "name": "python",
   "nbconvert_exporter": "python",
   "pygments_lexer": "ipython3",
   "version": "3.11.3"
  }
 },
 "nbformat": 4,
 "nbformat_minor": 2
}
